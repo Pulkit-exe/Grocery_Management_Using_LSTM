{
 "cells": [
  {
   "cell_type": "code",
   "execution_count": 2,
   "metadata": {},
   "outputs": [],
   "source": [
    "def get_current_inventory():\n",
    "    import numpy as np\n",
    "    import pandas as pd\n",
    "    from sklearn.preprocessing import MinMaxScaler\n",
    "    import tensorflow as tf\n",
    "    data = pd.read_csv('grocery_inventory_data.csv')\n",
    "    features = ['Inventory_Level', 'Sales']\n",
    "    data = data[features]\n",
    "    scaler = MinMaxScaler()\n",
    "    data_scaled = scaler.fit_transform(data)\n",
    "    lstm_model = tf.keras.models.load_model(\"grocery_management\")\n",
    "    input = np.load(\"input.npy\")\n",
    "    input.shape\n",
    "    y_pred = lstm_model.predict(input)\n",
    "    y_pred_original_scale = scaler.inverse_transform(np.concatenate((input[:, -1, 1:], y_pred.reshape(-1, 1)), axis=1))[:, 0]\n",
    "    a = list(y_pred_original_scale)\n",
    "    return a"
   ]
  }
 ],
 "metadata": {
  "kernelspec": {
   "display_name": "tf",
   "language": "python",
   "name": "python3"
  },
  "language_info": {
   "codemirror_mode": {
    "name": "ipython",
    "version": 3
   },
   "file_extension": ".py",
   "mimetype": "text/x-python",
   "name": "python",
   "nbconvert_exporter": "python",
   "pygments_lexer": "ipython3",
   "version": "3.9.18"
  }
 },
 "nbformat": 4,
 "nbformat_minor": 2
}
